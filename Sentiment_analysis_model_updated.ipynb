{
  "nbformat": 4,
  "nbformat_minor": 0,
  "metadata": {
    "colab": {
      "name": "Sentiment_analysis_model_updated.ipynb",
      "provenance": [],
      "collapsed_sections": [],
      "include_colab_link": true
    },
    "kernelspec": {
      "name": "python3",
      "display_name": "Python 3"
    },
    "language_info": {
      "name": "python"
    }
  },
  "cells": [
    {
      "cell_type": "markdown",
      "metadata": {
        "id": "view-in-github",
        "colab_type": "text"
      },
      "source": [
        "<a href=\"https://colab.research.google.com/github/Jyotirmay-Giri/ML-MAJOR-FEB-ML-02-BM3/blob/main/Sentiment_analysis_model_updated.ipynb\" target=\"_parent\"><img src=\"https://colab.research.google.com/assets/colab-badge.svg\" alt=\"Open In Colab\"/></a>"
      ]
    },
    {
      "cell_type": "code",
      "metadata": {
        "id": "hbs2bqCfUfPd"
      },
      "source": [
        "import pandas as pd"
      ],
      "execution_count": 1,
      "outputs": []
    },
    {
      "cell_type": "code",
      "metadata": {
        "id": "C_CjOwdhvk_d"
      },
      "source": [
        "import sklearn"
      ],
      "execution_count": 2,
      "outputs": []
    },
    {
      "cell_type": "code",
      "metadata": {
        "colab": {
          "base_uri": "https://localhost:8080/"
        },
        "id": "517Zs3Sqt9r1",
        "outputId": "4ab9458f-876e-469f-9ea3-f13eb1376f7b"
      },
      "source": [
        "!pip install scikit-learn==0.24.1"
      ],
      "execution_count": 3,
      "outputs": [
        {
          "output_type": "stream",
          "text": [
            "Requirement already satisfied: scikit-learn==0.24.1 in /usr/local/lib/python3.7/dist-packages (0.24.1)\n",
            "Requirement already satisfied: threadpoolctl>=2.0.0 in /usr/local/lib/python3.7/dist-packages (from scikit-learn==0.24.1) (2.1.0)\n",
            "Requirement already satisfied: joblib>=0.11 in /usr/local/lib/python3.7/dist-packages (from scikit-learn==0.24.1) (1.0.1)\n",
            "Requirement already satisfied: numpy>=1.13.3 in /usr/local/lib/python3.7/dist-packages (from scikit-learn==0.24.1) (1.19.5)\n",
            "Requirement already satisfied: scipy>=0.19.1 in /usr/local/lib/python3.7/dist-packages (from scikit-learn==0.24.1) (1.4.1)\n"
          ],
          "name": "stdout"
        }
      ]
    },
    {
      "cell_type": "code",
      "metadata": {
        "colab": {
          "base_uri": "https://localhost:8080/",
          "height": 36
        },
        "id": "9saex1-GvclG",
        "outputId": "b6bbf958-1d97-4b5c-9242-90af9c698865"
      },
      "source": [
        "sklearn.__version__"
      ],
      "execution_count": 4,
      "outputs": [
        {
          "output_type": "execute_result",
          "data": {
            "application/vnd.google.colaboratory.intrinsic+json": {
              "type": "string"
            },
            "text/plain": [
              "'0.24.1'"
            ]
          },
          "metadata": {
            "tags": []
          },
          "execution_count": 4
        }
      ]
    },
    {
      "cell_type": "code",
      "metadata": {
        "colab": {
          "base_uri": "https://localhost:8080/"
        },
        "id": "RoE2rbJNZLb6",
        "outputId": "1bd257e1-7c2e-4915-8d7d-a626b9f558c3"
      },
      "source": [
        "from google.colab import drive\n",
        "drive.mount('/content/drive')"
      ],
      "execution_count": 5,
      "outputs": [
        {
          "output_type": "stream",
          "text": [
            "Drive already mounted at /content/drive; to attempt to forcibly remount, call drive.mount(\"/content/drive\", force_remount=True).\n"
          ],
          "name": "stdout"
        }
      ]
    },
    {
      "cell_type": "code",
      "metadata": {
        "id": "C16vCPGiYAcF"
      },
      "source": [
        "df=pd.read_csv('/content/Tweets.csv')"
      ],
      "execution_count": 6,
      "outputs": []
    },
    {
      "cell_type": "code",
      "metadata": {
        "id": "2OHNmmMrYJG4"
      },
      "source": [
        "df.drop(columns=['tweet_id','airline_sentiment_confidence','negativereason','negativereason_confidence','airline','airline_sentiment_gold','name','negativereason_gold','retweet_count','tweet_coord','tweet_created','tweet_location','user_timezone'],inplace = True)"
      ],
      "execution_count": 7,
      "outputs": []
    },
    {
      "cell_type": "code",
      "metadata": {
        "colab": {
          "base_uri": "https://localhost:8080/",
          "height": 634
        },
        "id": "jSijq6O_rru2",
        "outputId": "9a2bc0f4-c194-4d6a-c813-8a76b4036cce"
      },
      "source": [
        "df_filtered=df[df['airline_sentiment'] != 'neutral']\n",
        "df_filtered.head(20)"
      ],
      "execution_count": 8,
      "outputs": [
        {
          "output_type": "execute_result",
          "data": {
            "text/html": [
              "<div>\n",
              "<style scoped>\n",
              "    .dataframe tbody tr th:only-of-type {\n",
              "        vertical-align: middle;\n",
              "    }\n",
              "\n",
              "    .dataframe tbody tr th {\n",
              "        vertical-align: top;\n",
              "    }\n",
              "\n",
              "    .dataframe thead th {\n",
              "        text-align: right;\n",
              "    }\n",
              "</style>\n",
              "<table border=\"1\" class=\"dataframe\">\n",
              "  <thead>\n",
              "    <tr style=\"text-align: right;\">\n",
              "      <th></th>\n",
              "      <th>airline_sentiment</th>\n",
              "      <th>text</th>\n",
              "    </tr>\n",
              "  </thead>\n",
              "  <tbody>\n",
              "    <tr>\n",
              "      <th>1</th>\n",
              "      <td>positive</td>\n",
              "      <td>@VirginAmerica plus you've added commercials t...</td>\n",
              "    </tr>\n",
              "    <tr>\n",
              "      <th>3</th>\n",
              "      <td>negative</td>\n",
              "      <td>@VirginAmerica it's really aggressive to blast...</td>\n",
              "    </tr>\n",
              "    <tr>\n",
              "      <th>4</th>\n",
              "      <td>negative</td>\n",
              "      <td>@VirginAmerica and it's a really big bad thing...</td>\n",
              "    </tr>\n",
              "    <tr>\n",
              "      <th>5</th>\n",
              "      <td>negative</td>\n",
              "      <td>@VirginAmerica seriously would pay $30 a fligh...</td>\n",
              "    </tr>\n",
              "    <tr>\n",
              "      <th>6</th>\n",
              "      <td>positive</td>\n",
              "      <td>@VirginAmerica yes, nearly every time I fly VX...</td>\n",
              "    </tr>\n",
              "    <tr>\n",
              "      <th>8</th>\n",
              "      <td>positive</td>\n",
              "      <td>@virginamerica Well, I didn't…but NOW I DO! :-D</td>\n",
              "    </tr>\n",
              "    <tr>\n",
              "      <th>9</th>\n",
              "      <td>positive</td>\n",
              "      <td>@VirginAmerica it was amazing, and arrived an ...</td>\n",
              "    </tr>\n",
              "    <tr>\n",
              "      <th>11</th>\n",
              "      <td>positive</td>\n",
              "      <td>@VirginAmerica I &amp;lt;3 pretty graphics. so muc...</td>\n",
              "    </tr>\n",
              "    <tr>\n",
              "      <th>12</th>\n",
              "      <td>positive</td>\n",
              "      <td>@VirginAmerica This is such a great deal! Alre...</td>\n",
              "    </tr>\n",
              "    <tr>\n",
              "      <th>13</th>\n",
              "      <td>positive</td>\n",
              "      <td>@VirginAmerica @virginmedia I'm flying your #f...</td>\n",
              "    </tr>\n",
              "    <tr>\n",
              "      <th>14</th>\n",
              "      <td>positive</td>\n",
              "      <td>@VirginAmerica Thanks!</td>\n",
              "    </tr>\n",
              "    <tr>\n",
              "      <th>15</th>\n",
              "      <td>negative</td>\n",
              "      <td>@VirginAmerica SFO-PDX schedule is still MIA.</td>\n",
              "    </tr>\n",
              "    <tr>\n",
              "      <th>16</th>\n",
              "      <td>positive</td>\n",
              "      <td>@VirginAmerica So excited for my first cross c...</td>\n",
              "    </tr>\n",
              "    <tr>\n",
              "      <th>17</th>\n",
              "      <td>negative</td>\n",
              "      <td>@VirginAmerica  I flew from NYC to SFO last we...</td>\n",
              "    </tr>\n",
              "    <tr>\n",
              "      <th>18</th>\n",
              "      <td>positive</td>\n",
              "      <td>I ❤️ flying @VirginAmerica. ☺️👍</td>\n",
              "    </tr>\n",
              "    <tr>\n",
              "      <th>19</th>\n",
              "      <td>positive</td>\n",
              "      <td>@VirginAmerica you know what would be amazingl...</td>\n",
              "    </tr>\n",
              "    <tr>\n",
              "      <th>20</th>\n",
              "      <td>negative</td>\n",
              "      <td>@VirginAmerica why are your first fares in May...</td>\n",
              "    </tr>\n",
              "    <tr>\n",
              "      <th>21</th>\n",
              "      <td>positive</td>\n",
              "      <td>@VirginAmerica I love this graphic. http://t.c...</td>\n",
              "    </tr>\n",
              "    <tr>\n",
              "      <th>22</th>\n",
              "      <td>positive</td>\n",
              "      <td>@VirginAmerica I love the hipster innovation. ...</td>\n",
              "    </tr>\n",
              "    <tr>\n",
              "      <th>24</th>\n",
              "      <td>negative</td>\n",
              "      <td>@VirginAmerica you guys messed up my seating.....</td>\n",
              "    </tr>\n",
              "  </tbody>\n",
              "</table>\n",
              "</div>"
            ],
            "text/plain": [
              "   airline_sentiment                                               text\n",
              "1           positive  @VirginAmerica plus you've added commercials t...\n",
              "3           negative  @VirginAmerica it's really aggressive to blast...\n",
              "4           negative  @VirginAmerica and it's a really big bad thing...\n",
              "5           negative  @VirginAmerica seriously would pay $30 a fligh...\n",
              "6           positive  @VirginAmerica yes, nearly every time I fly VX...\n",
              "8           positive    @virginamerica Well, I didn't…but NOW I DO! :-D\n",
              "9           positive  @VirginAmerica it was amazing, and arrived an ...\n",
              "11          positive  @VirginAmerica I &lt;3 pretty graphics. so muc...\n",
              "12          positive  @VirginAmerica This is such a great deal! Alre...\n",
              "13          positive  @VirginAmerica @virginmedia I'm flying your #f...\n",
              "14          positive                             @VirginAmerica Thanks!\n",
              "15          negative      @VirginAmerica SFO-PDX schedule is still MIA.\n",
              "16          positive  @VirginAmerica So excited for my first cross c...\n",
              "17          negative  @VirginAmerica  I flew from NYC to SFO last we...\n",
              "18          positive                    I ❤️ flying @VirginAmerica. ☺️👍\n",
              "19          positive  @VirginAmerica you know what would be amazingl...\n",
              "20          negative  @VirginAmerica why are your first fares in May...\n",
              "21          positive  @VirginAmerica I love this graphic. http://t.c...\n",
              "22          positive  @VirginAmerica I love the hipster innovation. ...\n",
              "24          negative  @VirginAmerica you guys messed up my seating....."
            ]
          },
          "metadata": {
            "tags": []
          },
          "execution_count": 8
        }
      ]
    },
    {
      "cell_type": "code",
      "metadata": {
        "colab": {
          "base_uri": "https://localhost:8080/"
        },
        "id": "j3phdc7FKxmQ",
        "outputId": "7cf0e09d-8e64-4e0a-9c8a-85946971320a"
      },
      "source": [
        "import nltk\n",
        "nltk.download('stopwords')\n",
        "stopword_list=nltk.corpus.stopwords.words('english')\n",
        "stopword_list.remove(\"no\")\n",
        "stopword_list.remove(\"not\")"
      ],
      "execution_count": 9,
      "outputs": [
        {
          "output_type": "stream",
          "text": [
            "[nltk_data] Downloading package stopwords to /root/nltk_data...\n",
            "[nltk_data]   Package stopwords is already up-to-date!\n"
          ],
          "name": "stdout"
        }
      ]
    },
    {
      "cell_type": "code",
      "metadata": {
        "id": "OObhGfzrK5zN",
        "colab": {
          "base_uri": "https://localhost:8080/"
        },
        "outputId": "bc3732a6-7323-4205-ed65-94252b84d2e0"
      },
      "source": [
        "!pip install contractions"
      ],
      "execution_count": 10,
      "outputs": [
        {
          "output_type": "stream",
          "text": [
            "Requirement already satisfied: contractions in /usr/local/lib/python3.7/dist-packages (0.0.48)\n",
            "Requirement already satisfied: textsearch>=0.0.21 in /usr/local/lib/python3.7/dist-packages (from contractions) (0.0.21)\n",
            "Requirement already satisfied: pyahocorasick in /usr/local/lib/python3.7/dist-packages (from textsearch>=0.0.21->contractions) (1.4.2)\n",
            "Requirement already satisfied: anyascii in /usr/local/lib/python3.7/dist-packages (from textsearch>=0.0.21->contractions) (0.1.7)\n"
          ],
          "name": "stdout"
        }
      ]
    },
    {
      "cell_type": "code",
      "metadata": {
        "id": "NptUCtSUNIZ1"
      },
      "source": [
        "import requests\n",
        "from bs4 import BeautifulSoup"
      ],
      "execution_count": 11,
      "outputs": []
    },
    {
      "cell_type": "code",
      "metadata": {
        "id": "PAFzthuMLFSx"
      },
      "source": [
        "def html_tag(text):\n",
        "  soup=BeautifulSoup(text,\"html.parser\")\n",
        "  new_text=soup.get_text()\n",
        "  return new_text"
      ],
      "execution_count": 12,
      "outputs": []
    },
    {
      "cell_type": "code",
      "metadata": {
        "id": "j-KXwr0nLKZi"
      },
      "source": [
        "import contractions\n",
        "def con(text):\n",
        "  expand=contractions.fix(text)\n",
        "  return expand"
      ],
      "execution_count": 13,
      "outputs": []
    },
    {
      "cell_type": "code",
      "metadata": {
        "id": "i_4rVPMOLOWh"
      },
      "source": [
        "import re\n",
        "def remove_sp(text):\n",
        "  pattern=r'[^A-Za-z0-9\\s]'\n",
        "  text=re.sub(pattern,'',text)\n",
        "  return text"
      ],
      "execution_count": 14,
      "outputs": []
    },
    {
      "cell_type": "code",
      "metadata": {
        "id": "ddq5pABHLSqp"
      },
      "source": [
        "from nltk.tokenize.toktok import ToktokTokenizer\n",
        "tokenizer=ToktokTokenizer()"
      ],
      "execution_count": 15,
      "outputs": []
    },
    {
      "cell_type": "code",
      "metadata": {
        "id": "hNrQf8ymLXsg"
      },
      "source": [
        "def remove_stopwords(text):\n",
        "  tokens=tokenizer.tokenize(text)\n",
        "  tokens=[token.strip()for token in tokens]\n",
        "  filtered_tokens=[token for token in tokens if token not in stopword_list]\n",
        "  filtered_text=' '.join(filtered_tokens)\n",
        "  return filtered_text"
      ],
      "execution_count": 16,
      "outputs": []
    },
    {
      "cell_type": "code",
      "metadata": {
        "colab": {
          "base_uri": "https://localhost:8080/"
        },
        "id": "GHFXBOVeLczO",
        "outputId": "cb9a7648-e0a8-4c6a-9231-b1c3d460375d"
      },
      "source": [
        "df_filtered.airline_sentiment=df_filtered.airline_sentiment.apply(lambda x:x.lower())\n",
        "df_filtered.airline_sentiment=df_filtered.airline_sentiment.apply(html_tag)\n",
        "df_filtered.airline_sentiment=df_filtered.airline_sentiment.apply(con)\n",
        "df_filtered.airline_sentiment=df_filtered.airline_sentiment.apply(remove_sp)\n",
        "df_filtered.airline_sentiment=df_filtered.airline_sentiment.apply(remove_stopwords)"
      ],
      "execution_count": 17,
      "outputs": [
        {
          "output_type": "stream",
          "text": [
            "/usr/local/lib/python3.7/dist-packages/pandas/core/generic.py:5170: SettingWithCopyWarning: \n",
            "A value is trying to be set on a copy of a slice from a DataFrame.\n",
            "Try using .loc[row_indexer,col_indexer] = value instead\n",
            "\n",
            "See the caveats in the documentation: https://pandas.pydata.org/pandas-docs/stable/user_guide/indexing.html#returning-a-view-versus-a-copy\n",
            "  self[name] = value\n"
          ],
          "name": "stderr"
        }
      ]
    },
    {
      "cell_type": "code",
      "metadata": {
        "colab": {
          "base_uri": "https://localhost:8080/"
        },
        "id": "dC1mUpfTc_OY",
        "outputId": "012eb70d-c908-4c9f-84bb-09311e76f104"
      },
      "source": [
        "df_filtered['airline_sentiment'].value_counts()"
      ],
      "execution_count": 18,
      "outputs": [
        {
          "output_type": "execute_result",
          "data": {
            "text/plain": [
              "negative    9178\n",
              "positive    2363\n",
              "Name: airline_sentiment, dtype: int64"
            ]
          },
          "metadata": {
            "tags": []
          },
          "execution_count": 18
        }
      ]
    },
    {
      "cell_type": "code",
      "metadata": {
        "id": "mFRgwr8FgD9k"
      },
      "source": [
        "x = df_filtered.iloc[:,1]\n",
        "y = df_filtered.iloc[:,0]"
      ],
      "execution_count": 19,
      "outputs": []
    },
    {
      "cell_type": "code",
      "metadata": {
        "colab": {
          "base_uri": "https://localhost:8080/"
        },
        "id": "jC3Kf14_JZ8j",
        "outputId": "f783ad85-d08b-47c4-9a79-d52ad32a395c"
      },
      "source": [
        "!pip install delayed "
      ],
      "execution_count": 20,
      "outputs": [
        {
          "output_type": "stream",
          "text": [
            "Requirement already satisfied: delayed in /usr/local/lib/python3.7/dist-packages (0.11.0b1)\n",
            "Requirement already satisfied: hiredis in /usr/local/lib/python3.7/dist-packages (from delayed) (2.0.0)\n",
            "Requirement already satisfied: redis in /usr/local/lib/python3.7/dist-packages (from delayed) (3.5.3)\n"
          ],
          "name": "stdout"
        }
      ]
    },
    {
      "cell_type": "code",
      "metadata": {
        "id": "YxqtztlQJh0s"
      },
      "source": [
        "import delayed"
      ],
      "execution_count": 21,
      "outputs": []
    },
    {
      "cell_type": "code",
      "metadata": {
        "id": "YI44RrpbgJmy"
      },
      "source": [
        "\n",
        "from sklearn.model_selection import train_test_split\n",
        "x_train,x_test,y_train,y_test = train_test_split(x,y,test_size=0.3,random_state=0,stratify=y)"
      ],
      "execution_count": 22,
      "outputs": []
    },
    {
      "cell_type": "code",
      "metadata": {
        "colab": {
          "base_uri": "https://localhost:8080/"
        },
        "id": "Chuz_6Kk4seX",
        "outputId": "01a978e2-d53d-42c9-a3a5-47a7e104b76b"
      },
      "source": [
        "print(x_train.shape)\n",
        "print(x_test.shape)"
      ],
      "execution_count": 23,
      "outputs": [
        {
          "output_type": "stream",
          "text": [
            "(8078,)\n",
            "(3463,)\n"
          ],
          "name": "stdout"
        }
      ]
    },
    {
      "cell_type": "code",
      "metadata": {
        "colab": {
          "base_uri": "https://localhost:8080/"
        },
        "id": "UmEyvz4r6kIa",
        "outputId": "13de57aa-7c4f-4c22-c200-dc2e9eab2f53"
      },
      "source": [
        "import numpy as np\n",
        "np.unique(y_train,return_counts=True)"
      ],
      "execution_count": 24,
      "outputs": [
        {
          "output_type": "execute_result",
          "data": {
            "text/plain": [
              "(array(['negative', 'positive'], dtype=object), array([6424, 1654]))"
            ]
          },
          "metadata": {
            "tags": []
          },
          "execution_count": 24
        }
      ]
    },
    {
      "cell_type": "code",
      "metadata": {
        "colab": {
          "base_uri": "https://localhost:8080/"
        },
        "id": "HvkwxCsL6pRC",
        "outputId": "5e246ae6-35ac-4278-9cd5-bd2aa88ce913"
      },
      "source": [
        "np.unique(y_test,return_counts=True)"
      ],
      "execution_count": 25,
      "outputs": [
        {
          "output_type": "execute_result",
          "data": {
            "text/plain": [
              "(array(['negative', 'positive'], dtype=object), array([2754,  709]))"
            ]
          },
          "metadata": {
            "tags": []
          },
          "execution_count": 25
        }
      ]
    },
    {
      "cell_type": "code",
      "metadata": {
        "id": "aqha8qdf6tYh"
      },
      "source": [
        "from sklearn.pipeline import Pipeline\n",
        "from sklearn.feature_extraction.text import TfidfVectorizer\n",
        "from sklearn.svm import SVC\n",
        "sa_model = Pipeline([('tfidf',TfidfVectorizer()),('model',SVC())])"
      ],
      "execution_count": 26,
      "outputs": []
    },
    {
      "cell_type": "code",
      "metadata": {
        "colab": {
          "base_uri": "https://localhost:8080/"
        },
        "id": "YxZ8nCUR62vA",
        "outputId": "44d313f5-4955-4573-864d-f215c047d6ed"
      },
      "source": [
        "sa_model.fit(x_train,y_train)"
      ],
      "execution_count": 27,
      "outputs": [
        {
          "output_type": "execute_result",
          "data": {
            "text/plain": [
              "Pipeline(steps=[('tfidf', TfidfVectorizer()), ('model', SVC())])"
            ]
          },
          "metadata": {
            "tags": []
          },
          "execution_count": 27
        }
      ]
    },
    {
      "cell_type": "code",
      "metadata": {
        "colab": {
          "base_uri": "https://localhost:8080/"
        },
        "id": "Muml645t9h8w",
        "outputId": "727aa292-9b8c-44a0-989d-e08c104f9647"
      },
      "source": [
        "y_pred = sa_model.predict(x_test)\n",
        "y_pred"
      ],
      "execution_count": 28,
      "outputs": [
        {
          "output_type": "execute_result",
          "data": {
            "text/plain": [
              "array(['negative', 'negative', 'negative', ..., 'negative', 'negative',\n",
              "       'negative'], dtype=object)"
            ]
          },
          "metadata": {
            "tags": []
          },
          "execution_count": 28
        }
      ]
    },
    {
      "cell_type": "code",
      "metadata": {
        "colab": {
          "base_uri": "https://localhost:8080/"
        },
        "id": "rlnvBZ_f9pIh",
        "outputId": "0acf8cd1-8dad-4ec5-d75a-f4386a46cc82"
      },
      "source": [
        "y_test"
      ],
      "execution_count": 29,
      "outputs": [
        {
          "output_type": "execute_result",
          "data": {
            "text/plain": [
              "3512     negative\n",
              "10159    negative\n",
              "9752     negative\n",
              "2876     negative\n",
              "14311    negative\n",
              "           ...   \n",
              "4709     positive\n",
              "10002    negative\n",
              "6425     negative\n",
              "1646     positive\n",
              "2576     positive\n",
              "Name: airline_sentiment, Length: 3463, dtype: object"
            ]
          },
          "metadata": {
            "tags": []
          },
          "execution_count": 29
        }
      ]
    },
    {
      "cell_type": "code",
      "metadata": {
        "id": "7aukBv6g9vdv"
      },
      "source": [
        "from sklearn.metrics import accuracy_score,classification_report,confusion_matrix"
      ],
      "execution_count": 30,
      "outputs": []
    },
    {
      "cell_type": "code",
      "metadata": {
        "colab": {
          "base_uri": "https://localhost:8080/"
        },
        "id": "vNCsN8I8-A3T",
        "outputId": "270e4b70-9317-473e-f6b3-b40968b94e22"
      },
      "source": [
        "accuracy_score(y_pred,y_test)*100"
      ],
      "execution_count": 31,
      "outputs": [
        {
          "output_type": "execute_result",
          "data": {
            "text/plain": [
              "91.48137453075368"
            ]
          },
          "metadata": {
            "tags": []
          },
          "execution_count": 31
        }
      ]
    },
    {
      "cell_type": "code",
      "metadata": {
        "colab": {
          "base_uri": "https://localhost:8080/"
        },
        "id": "yhfz4CVV-FKp",
        "outputId": "c78bf31c-766c-4ead-814a-26cfedc10ad1"
      },
      "source": [
        "confusion_matrix(y_pred,y_test)"
      ],
      "execution_count": 32,
      "outputs": [
        {
          "output_type": "execute_result",
          "data": {
            "text/plain": [
              "array([[2725,  266],\n",
              "       [  29,  443]])"
            ]
          },
          "metadata": {
            "tags": []
          },
          "execution_count": 32
        }
      ]
    },
    {
      "cell_type": "code",
      "metadata": {
        "colab": {
          "base_uri": "https://localhost:8080/"
        },
        "id": "zy0VdzIO-J6j",
        "outputId": "f9e0a81e-e655-4064-ceca-cd6b74a9259f"
      },
      "source": [
        "print(classification_report(y_pred,y_test))"
      ],
      "execution_count": 33,
      "outputs": [
        {
          "output_type": "stream",
          "text": [
            "              precision    recall  f1-score   support\n",
            "\n",
            "    negative       0.99      0.91      0.95      2991\n",
            "    positive       0.62      0.94      0.75       472\n",
            "\n",
            "    accuracy                           0.91      3463\n",
            "   macro avg       0.81      0.92      0.85      3463\n",
            "weighted avg       0.94      0.91      0.92      3463\n",
            "\n"
          ],
          "name": "stdout"
        }
      ]
    },
    {
      "cell_type": "code",
      "metadata": {
        "colab": {
          "base_uri": "https://localhost:8080/"
        },
        "id": "nzFxv_Mf-RI9",
        "outputId": "9d8711fe-563a-4464-d181-ee603b74341b"
      },
      "source": [
        "sentiment_m = df[df['airline_sentiment']=='negative']\n",
        "sentiment_m.iloc[6].values"
      ],
      "execution_count": 34,
      "outputs": [
        {
          "output_type": "execute_result",
          "data": {
            "text/plain": [
              "array(['negative',\n",
              "       '@VirginAmerica you guys messed up my seating.. I reserved seating with my friends and you guys gave my seat away ... 😡 I want free internet'],\n",
              "      dtype=object)"
            ]
          },
          "metadata": {
            "tags": []
          },
          "execution_count": 34
        }
      ]
    },
    {
      "cell_type": "code",
      "metadata": {
        "colab": {
          "base_uri": "https://localhost:8080/"
        },
        "id": "bM04SksK-mxS",
        "outputId": "ec45cd9e-50d9-41c1-da06-6328c47e92cf"
      },
      "source": [
        "sa_model.predict(['@VirginAmerica you guys messed up my seating.. I reserved seating with my friends and you guys gave my seat away ... 😡 I want free internet'])"
      ],
      "execution_count": 35,
      "outputs": [
        {
          "output_type": "execute_result",
          "data": {
            "text/plain": [
              "array(['negative'], dtype=object)"
            ]
          },
          "metadata": {
            "tags": []
          },
          "execution_count": 35
        }
      ]
    },
    {
      "cell_type": "code",
      "metadata": {
        "colab": {
          "base_uri": "https://localhost:8080/"
        },
        "id": "Sx6GZd93O9fr",
        "outputId": "54d80b88-2594-4a0f-f1b4-76a101335dde"
      },
      "source": [
        "!pip install pipreqs"
      ],
      "execution_count": 36,
      "outputs": [
        {
          "output_type": "stream",
          "text": [
            "Requirement already satisfied: pipreqs in /usr/local/lib/python3.7/dist-packages (0.4.10)\n",
            "Requirement already satisfied: docopt in /usr/local/lib/python3.7/dist-packages (from pipreqs) (0.6.2)\n",
            "Requirement already satisfied: yarg in /usr/local/lib/python3.7/dist-packages (from pipreqs) (0.1.9)\n",
            "Requirement already satisfied: requests in /usr/local/lib/python3.7/dist-packages (from yarg->pipreqs) (2.23.0)\n",
            "Requirement already satisfied: certifi>=2017.4.17 in /usr/local/lib/python3.7/dist-packages (from requests->yarg->pipreqs) (2020.12.5)\n",
            "Requirement already satisfied: idna<3,>=2.5 in /usr/local/lib/python3.7/dist-packages (from requests->yarg->pipreqs) (2.10)\n",
            "Requirement already satisfied: urllib3!=1.25.0,!=1.25.1,<1.26,>=1.21.1 in /usr/local/lib/python3.7/dist-packages (from requests->yarg->pipreqs) (1.24.3)\n",
            "Requirement already satisfied: chardet<4,>=3.0.2 in /usr/local/lib/python3.7/dist-packages (from requests->yarg->pipreqs) (3.0.4)\n"
          ],
          "name": "stdout"
        }
      ]
    },
    {
      "cell_type": "code",
      "metadata": {
        "colab": {
          "base_uri": "https://localhost:8080/"
        },
        "id": "qRHZM9Ez-24y",
        "outputId": "58d3b2ac-9419-4ddd-aaf3-37ed6aee378b"
      },
      "source": [
        "import joblib\n",
        "joblib.dump(sa_model,'Tweets1')"
      ],
      "execution_count": 37,
      "outputs": [
        {
          "output_type": "execute_result",
          "data": {
            "text/plain": [
              "['Tweets1']"
            ]
          },
          "metadata": {
            "tags": []
          },
          "execution_count": 37
        }
      ]
    },
    {
      "cell_type": "code",
      "metadata": {
        "id": "ffJBvuFfcWM9",
        "colab": {
          "base_uri": "https://localhost:8080/"
        },
        "outputId": "0cb2ddb0-3ec1-46a6-9dfa-90035155f196"
      },
      "source": [
        "!cp /content/Tweets /content/drive/MyDrive/ARP_2 -r"
      ],
      "execution_count": 38,
      "outputs": [
        {
          "output_type": "stream",
          "text": [
            "cp: cannot stat '/content/Tweets': No such file or directory\n"
          ],
          "name": "stdout"
        }
      ]
    },
    {
      "cell_type": "code",
      "metadata": {
        "id": "2h3Nj286_IEz"
      },
      "source": [
        "!pip install streamlit --quiet\n",
        "!pip install pyngrok==4.1.1 --quiet\n",
        "from pyngrok import ngrok"
      ],
      "execution_count": 39,
      "outputs": []
    },
    {
      "cell_type": "code",
      "metadata": {
        "colab": {
          "base_uri": "https://localhost:8080/"
        },
        "id": "XvEHG9mG_NgK",
        "outputId": "e0ab51f5-d691-4df6-e866-4f3c5195aabd"
      },
      "source": [
        "%%writefile Sentiments1.py\n",
        "import streamlit as st\n",
        "import sklearn\n",
        "import joblib\n",
        "model = joblib.load('Tweets')\n",
        "st.title('Tweets Classifier')\n",
        "ip = st.text_input('Enter your message')\n",
        "op = model.predict([ip])\n",
        "if st.button('Predict'):\n",
        "  st.title(op[0])"
      ],
      "execution_count": 40,
      "outputs": [
        {
          "output_type": "stream",
          "text": [
            "Overwriting Sentiments1.py\n"
          ],
          "name": "stdout"
        }
      ]
    },
    {
      "cell_type": "code",
      "metadata": {
        "colab": {
          "base_uri": "https://localhost:8080/",
          "height": 53
        },
        "id": "GZDRAeJL_e6Z",
        "outputId": "d5a56309-348d-45f8-e4c4-91c59eaf1844"
      },
      "source": [
        "!nohup streamlit run Sentiments.py &\n",
        "url=ngrok.connect(port='8502')\n",
        "url"
      ],
      "execution_count": 41,
      "outputs": [
        {
          "output_type": "stream",
          "text": [
            "nohup: appending output to 'nohup.out'\n"
          ],
          "name": "stdout"
        },
        {
          "output_type": "execute_result",
          "data": {
            "application/vnd.google.colaboratory.intrinsic+json": {
              "type": "string"
            },
            "text/plain": [
              "'http://3fac6dd07966.ngrok.io'"
            ]
          },
          "metadata": {
            "tags": []
          },
          "execution_count": 41
        }
      ]
    },
    {
      "cell_type": "code",
      "metadata": {
        "colab": {
          "base_uri": "https://localhost:8080/",
          "height": 36
        },
        "id": "Qs4N0Y6MyGy2",
        "outputId": "72da1639-8a51-4523-b980-8f8db08ab620"
      },
      "source": [
        "sklearn.__version__"
      ],
      "execution_count": 42,
      "outputs": [
        {
          "output_type": "execute_result",
          "data": {
            "application/vnd.google.colaboratory.intrinsic+json": {
              "type": "string"
            },
            "text/plain": [
              "'0.24.1'"
            ]
          },
          "metadata": {
            "tags": []
          },
          "execution_count": 42
        }
      ]
    },
    {
      "cell_type": "code",
      "metadata": {
        "colab": {
          "base_uri": "https://localhost:8080/"
        },
        "id": "LYAuBVk1vYSI",
        "outputId": "44e1ef6d-73ab-42ec-ba3a-b9f5e7daad47"
      },
      "source": [
        "!pipreqs /content/"
      ],
      "execution_count": 43,
      "outputs": [
        {
          "output_type": "stream",
          "text": [
            "WARNING: Requirements.txt already exists, use --force to overwrite it\n"
          ],
          "name": "stdout"
        }
      ]
    },
    {
      "cell_type": "code",
      "metadata": {
        "id": "tZlZo0CKusQD"
      },
      "source": [
        ""
      ],
      "execution_count": 43,
      "outputs": []
    },
    {
      "cell_type": "code",
      "metadata": {
        "id": "Ly1TpzQIB2mq"
      },
      "source": [
        ""
      ],
      "execution_count": 43,
      "outputs": []
    }
  ]
}